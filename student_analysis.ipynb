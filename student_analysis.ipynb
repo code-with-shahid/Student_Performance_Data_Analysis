# Student Performance Data Analysis
import pandas as pd
import seaborn as sns
import matplotlib.pyplot as plt
df = pd.read_csv("student_data.csv")
df.head()
df.describe()
df.isnull().sum()
plt.figure(figsize=(10,6))
sns.heatmap(df.corr(), annot=True, cmap="coolwarm")
plt.title("Correlation Heatmap")
plt.show()
